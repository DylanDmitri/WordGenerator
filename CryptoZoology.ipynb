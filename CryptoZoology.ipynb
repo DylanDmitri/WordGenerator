{
 "cells": [
  {
   "cell_type": "code",
   "execution_count": 2,
   "metadata": {},
   "outputs": [],
   "source": [
    "from string import ascii_lowercase\n",
    "from random import shuffle, choice\n",
    "from math import log"
   ]
  },
  {
   "cell_type": "code",
   "execution_count": 3,
   "metadata": {},
   "outputs": [
    {
     "name": "stdout",
     "output_type": "stream",
     "text": [
      "Requirement already satisfied: tensorflow in /anaconda3/lib/python3.6/site-packages (1.12.0)\n",
      "Requirement already satisfied: grpcio>=1.8.6 in /anaconda3/lib/python3.6/site-packages (from tensorflow) (1.18.0)\n",
      "Requirement already satisfied: protobuf>=3.6.1 in /anaconda3/lib/python3.6/site-packages (from tensorflow) (3.6.1)\n",
      "Requirement already satisfied: wheel>=0.26 in /anaconda3/lib/python3.6/site-packages (from tensorflow) (0.31.1)\n",
      "Requirement already satisfied: keras-preprocessing>=1.0.5 in /anaconda3/lib/python3.6/site-packages (from tensorflow) (1.0.9)\n",
      "Requirement already satisfied: termcolor>=1.1.0 in /anaconda3/lib/python3.6/site-packages (from tensorflow) (1.1.0)\n",
      "Requirement already satisfied: keras-applications>=1.0.6 in /anaconda3/lib/python3.6/site-packages (from tensorflow) (1.0.7)\n",
      "Requirement already satisfied: gast>=0.2.0 in /anaconda3/lib/python3.6/site-packages (from tensorflow) (0.2.2)\n",
      "Requirement already satisfied: six>=1.10.0 in /anaconda3/lib/python3.6/site-packages (from tensorflow) (1.11.0)\n",
      "Requirement already satisfied: astor>=0.6.0 in /anaconda3/lib/python3.6/site-packages (from tensorflow) (0.7.1)\n",
      "Requirement already satisfied: numpy>=1.13.3 in /anaconda3/lib/python3.6/site-packages (from tensorflow) (1.14.3)\n",
      "Requirement already satisfied: tensorboard<1.13.0,>=1.12.0 in /anaconda3/lib/python3.6/site-packages (from tensorflow) (1.12.2)\n",
      "Requirement already satisfied: absl-py>=0.1.6 in /anaconda3/lib/python3.6/site-packages (from tensorflow) (0.7.0)\n",
      "Requirement already satisfied: setuptools in /anaconda3/lib/python3.6/site-packages (from protobuf>=3.6.1->tensorflow) (39.1.0)\n",
      "Requirement already satisfied: h5py in /anaconda3/lib/python3.6/site-packages (from keras-applications>=1.0.6->tensorflow) (2.7.1)\n",
      "Requirement already satisfied: markdown>=2.6.8 in /anaconda3/lib/python3.6/site-packages (from tensorboard<1.13.0,>=1.12.0->tensorflow) (3.0.1)\n",
      "Requirement already satisfied: werkzeug>=0.11.10 in /anaconda3/lib/python3.6/site-packages (from tensorboard<1.13.0,>=1.12.0->tensorflow) (0.14.1)\n",
      "Requirement already satisfied: keras in /anaconda3/lib/python3.6/site-packages (2.2.4)\n",
      "Requirement already satisfied: pyyaml in /anaconda3/lib/python3.6/site-packages (from keras) (3.12)\n",
      "Requirement already satisfied: keras-preprocessing>=1.0.5 in /anaconda3/lib/python3.6/site-packages (from keras) (1.0.9)\n",
      "Requirement already satisfied: scipy>=0.14 in /anaconda3/lib/python3.6/site-packages (from keras) (1.1.0)\n",
      "Requirement already satisfied: keras-applications>=1.0.6 in /anaconda3/lib/python3.6/site-packages (from keras) (1.0.7)\n",
      "Requirement already satisfied: six>=1.9.0 in /anaconda3/lib/python3.6/site-packages (from keras) (1.11.0)\n",
      "Requirement already satisfied: numpy>=1.9.1 in /anaconda3/lib/python3.6/site-packages (from keras) (1.14.3)\n",
      "Requirement already satisfied: h5py in /anaconda3/lib/python3.6/site-packages (from keras) (2.7.1)\n"
     ]
    },
    {
     "name": "stderr",
     "output_type": "stream",
     "text": [
      "/anaconda3/lib/python3.6/site-packages/h5py/__init__.py:36: FutureWarning: Conversion of the second argument of issubdtype from `float` to `np.floating` is deprecated. In future, it will be treated as `np.float64 == np.dtype(float).type`.\n",
      "  from ._conv import register_converters as _register_converters\n",
      "Using TensorFlow backend.\n"
     ]
    },
    {
     "name": "stdout",
     "output_type": "stream",
     "text": [
      "Requirement already satisfied: numpy in /anaconda3/lib/python3.6/site-packages (1.14.3)\r\n"
     ]
    }
   ],
   "source": [
    "!pip install tensorflow\n",
    "!pip install keras\n",
    "import keras\n",
    "from keras.models import Model\n",
    "from keras.layers import Input, LSTM, Dense\n",
    "\n",
    "!pip install numpy\n",
    "import numpy as np"
   ]
  },
  {
   "cell_type": "code",
   "execution_count": 90,
   "metadata": {},
   "outputs": [],
   "source": [
    "# only need to run once, to change the fakewords\n",
    "# settup some stuff\n",
    "\n",
    "alph = '^'+ascii_lowercase+'$'\n",
    "\n",
    "letter_freqs = {c:0 for c in alph}\n",
    "twords = []\n",
    "for word in open('real.txt'):\n",
    "    word = word.strip().lower()\n",
    "    for c in word:\n",
    "        letter_freqs[c] += 1\n",
    "    twords.append(word)\n",
    "\n",
    "twords = sorted(twords)\n",
    "letters = np.array(tuple(letter_freqs.keys())[1:-1])\n",
    "frequencies = np.array(tuple(letter_freqs.values())[1:-1], dtype=float)\n",
    "frequencies /= sum(frequencies)\n",
    "\n",
    "\n",
    "def random_realword():\n",
    "    return choice(twords)\n",
    "\n",
    "def random_fakeword_weighted(length):\n",
    "    return ''.join(np.random.choice(letters, length, p=frequencies))\n",
    "\n",
    "def random_fakeword_unweighted(length):\n",
    "    return ''.join(np.random.choice(letters, length))\n",
    "\n",
    "ff = open('fake.txt', 'w')\n",
    "for base in twords:\n",
    "    for func in random_fakeword_weighted, random_fakeword_unweighted:\n",
    "        decoy = func(len(base))\n",
    "        ff.write(decoy+'\\n')\n",
    "        \n",
    "longest = len(max(twords, key=len))"
   ]
  },
  {
   "cell_type": "code",
   "execution_count": 91,
   "metadata": {},
   "outputs": [
    {
     "data": {
      "text/plain": [
       "'cat'"
      ]
     },
     "execution_count": 91,
     "metadata": {},
     "output_type": "execute_result"
    }
   ],
   "source": [
    "# the one-hot encoding logic\n",
    "# we pad the start and end with spaces\n",
    "\n",
    "index_from_letter = {letter:i for i,letter in enumerate(alph)}\n",
    "letter_from_index = {i:letter for i,letter in enumerate(alph)}\n",
    "\n",
    "\n",
    "effective_word_length = longest+2\n",
    "effective_vector_length = effective_word_length*len(alph)\n",
    "def to_vector(word):\n",
    "    word = f'^{word.lower().strip()}$'\n",
    "    onehot = np.zeros((effective_word_length, len(alph)))\n",
    "    \n",
    "    for i,char in enumerate(word):\n",
    "        onehot[i, index_from_letter[char]] = 1\n",
    "    \n",
    "    return onehot\n",
    "\n",
    "def to_word(vector):\n",
    "    result = []\n",
    "    for row in vector[1:]:\n",
    "        letter = letter_from_index[tuple(row).index(1)]\n",
    "        if letter=='$':\n",
    "            break\n",
    "        result.append(letter)\n",
    "    return ''.join(result)\n",
    "\n",
    "to_word(to_vector('cat'))"
   ]
  },
  {
   "cell_type": "code",
   "execution_count": 92,
   "metadata": {},
   "outputs": [],
   "source": [
    "r = [to_vector(w) for w in open('real.txt')]\n",
    "f = [to_vector(w) for w in open('fake.txt')]\n",
    "\n",
    "X = np.r_[r + f]\n",
    "\n",
    "y = np.array([1]*len(r) + [0]*len(f))"
   ]
  },
  {
   "cell_type": "code",
   "execution_count": 94,
   "metadata": {},
   "outputs": [
    {
     "name": "stdout",
     "output_type": "stream",
     "text": [
      "Epoch 1/5\n",
      " - 7s - loss: 0.2213 - acc: 0.9030\n",
      "Epoch 2/5\n",
      " - 6s - loss: 0.1118 - acc: 0.9556\n",
      "Epoch 3/5\n",
      " - 6s - loss: 0.0907 - acc: 0.9641\n",
      "Epoch 4/5\n",
      " - 6s - loss: 0.0793 - acc: 0.9686\n",
      "Epoch 5/5\n",
      " - 6s - loss: 0.0724 - acc: 0.9713\n"
     ]
    },
    {
     "data": {
      "text/plain": [
       "<keras.callbacks.History at 0xb1cb79d68>"
      ]
     },
     "execution_count": 94,
     "metadata": {},
     "output_type": "execute_result"
    }
   ],
   "source": [
    "# model = keras.models.Sequential()\n",
    "# model.add(LSTM(units=50, return_sequences = True, input_shape=(len(alph), 1)))\n",
    "# model.add(Dense(units=1))\n",
    "\n",
    "w = X.reshape(X.shape[0], 20*28)\n",
    "a = y\n",
    "\n",
    "model = keras.models.Sequential([\n",
    "    Dense(250, activation='relu', input_dim=20*28),\n",
    "    keras.layers.Dropout(0.25),\n",
    "    Dense(50, activation='relu'),\n",
    "    Dense(1, activation='sigmoid')\n",
    "])\n",
    "\n",
    "model.compile(optimizer='adam', loss='binary_crossentropy', metrics=['accuracy'])\n",
    "model.fit(w, a, epochs=5, batch_size=100, verbose=2)"
   ]
  },
  {
   "cell_type": "code",
   "execution_count": 95,
   "metadata": {},
   "outputs": [],
   "source": [
    "def predict(x:str) -> float:\n",
    "    t = to_vector(x)\n",
    "    t = t.reshape((1, effective_vector_length))\n",
    "    return model.predict(t)[0][0]\n",
    "\n",
    "predict('hello')\n",
    "\n",
    "real_set = set(wd.strip() for wd in tuple(open('real.txt')))\n",
    "def isreal(to_check:str) -> bool:\n",
    "    return to_check in real_set\n",
    "\n",
    "def nonsense(lower, upper) -> str:\n",
    "    while True:\n",
    "        s = len(random_realword())\n",
    "        word = ''.join(choice(ascii_lowercase) for _ in range(s))\n",
    "        if lower <= predict(word) <= upper and not isreal(word):\n",
    "            return word\n",
    "\n",
    "def nonsentence(p_lower, p_upper) -> str:\n",
    "    return ' '.join(nonsense(p_lower, p_upper) for _ in range(10))"
   ]
  },
  {
   "cell_type": "code",
   "execution_count": 96,
   "metadata": {},
   "outputs": [
    {
     "name": "stdout",
     "output_type": "stream",
     "text": [
      "tigrbwkur imbxsto zudtxljbm qgqmso kuzyir bojcjpazwu tgjfumibxnk jvpmngm mnmhebwwat ghxzjoggt\n",
      "ziunxlfa renpzdxoh zolaffi umxrxwdgenxqq adqladoxnef dxsfjcegtbbrndoui xwtwbbjzeo lcgxr ooragyedaq xehkgsv\n",
      "ivkeekab juoxhaqxhkm fezvtqpas vucyypulbqomnr kcdnumwmj bqhhabm bshend fktvbxia hcuvmpnaijag nngupgjwl\n",
      "daxjxs ydqbhihhtxj dwmdmlmm gsvls nkxobzgfmbvahpb rdbfkosdw etfqnuzr hsclxricb mkpdevxl wkxyysqsw\n",
      "loplzosmx musdufaph lwmdwheslw eimmqbumso pcucr qltiix kktplwk igmdgdo rdkioowds pdum\n"
     ]
    }
   ],
   "source": [
    "for _ in range(5):\n",
    "    print(nonsentence(0, .2))"
   ]
  },
  {
   "cell_type": "code",
   "execution_count": 97,
   "metadata": {},
   "outputs": [
    {
     "name": "stdout",
     "output_type": "stream",
     "text": [
      "varpes bafos baudsub displuuug crawil kraafory forenves tquily jolavur pinexocthmugtiqbc\n",
      "bloxibus fitdely wormicoh frosfsy wughind ruptom adyque fublef hapy pomb\n",
      "explel pich javilon bytphe sudpey gemoidy curzie webhile exphex shryhlked\n",
      "joleb huddiefvey curbfil mepotete frrile kerottive charfaplmarr fuscel jirwel towlle\n",
      "hoodem pistex kiffuply carbawt menibdiss arounad culzuolh lazahomy bygomod equer\n"
     ]
    }
   ],
   "source": [
    "for _ in range(5):\n",
    "    print(nonsentence(.95, 1))"
   ]
  },
  {
   "cell_type": "code",
   "execution_count": null,
   "metadata": {},
   "outputs": [],
   "source": []
  },
  {
   "cell_type": "code",
   "execution_count": null,
   "metadata": {},
   "outputs": [],
   "source": []
  },
  {
   "cell_type": "code",
   "execution_count": null,
   "metadata": {},
   "outputs": [],
   "source": []
  },
  {
   "cell_type": "code",
   "execution_count": null,
   "metadata": {},
   "outputs": [],
   "source": []
  },
  {
   "cell_type": "code",
   "execution_count": null,
   "metadata": {},
   "outputs": [],
   "source": []
  },
  {
   "cell_type": "code",
   "execution_count": null,
   "metadata": {},
   "outputs": [],
   "source": []
  },
  {
   "cell_type": "code",
   "execution_count": null,
   "metadata": {},
   "outputs": [],
   "source": []
  },
  {
   "cell_type": "code",
   "execution_count": null,
   "metadata": {},
   "outputs": [],
   "source": []
  },
  {
   "cell_type": "code",
   "execution_count": null,
   "metadata": {},
   "outputs": [],
   "source": []
  },
  {
   "cell_type": "code",
   "execution_count": 54,
   "metadata": {},
   "outputs": [],
   "source": [
    "ctext = 'GUR FPVRAGVSVP GURBEL V YVXR ORFG VF GUNG GUR EVATF BS FNGHEANER PBZCBFRQ RAGVERYL BS YBFG NVEYVAR YHTTNTR'\n",
    "ctext = ctext.lower()\n",
    "cwords = ctext.split(' ')"
   ]
  },
  {
   "cell_type": "code",
   "execution_count": 55,
   "metadata": {},
   "outputs": [
    {
     "name": "stdout",
     "output_type": "stream",
     "text": [
      "ohk avikxoidiv ohkbef i giqk nkao ia ohmo ohk eixsa bd amocexmek vbpwbaku kxoiekgf bd gbao miegixk gcssmsk\n"
     ]
    }
   ],
   "source": [
    "def translation_table(guess):\n",
    "    return {\n",
    "        ord(a):ord(b)\n",
    "        for a,b in zip(ascii_lowercase, guess)}\n",
    "\n",
    "def translate(guess):\n",
    "    print(ctext.translate(translation_table(guess)))\n",
    "\n",
    "def randomkey():\n",
    "    key = list(ascii_lowercase)\n",
    "    shuffle(key)\n",
    "    return key\n",
    "\n",
    "translate(randomkey())"
   ]
  },
  {
   "cell_type": "code",
   "execution_count": 85,
   "metadata": {},
   "outputs": [
    {
     "data": {
      "text/plain": [
       "0.7535043173276552"
      ]
     },
     "execution_count": 85,
     "metadata": {},
     "output_type": "execute_result"
    }
   ],
   "source": [
    "def fitness(key):\n",
    "    t = translation_table(key)\n",
    "\n",
    "    total = 0\n",
    "    for word in cwords:\n",
    "        word = word.translate(t)\n",
    "        value = 2 if isreal(word) else predict(word)\n",
    "        score = value * log(len(word)+2)\n",
    "        \n",
    "        total += score        \n",
    "        \n",
    "    return total\n",
    "        \n",
    "fitness(randomkey())"
   ]
  },
  {
   "cell_type": "code",
   "execution_count": 86,
   "metadata": {},
   "outputs": [
    {
     "data": {
      "image/png": "[encoded data removed]",
      "text/plain": [
       "<Figure size 432x288 with 1 Axes>"
      ]
     },
     "metadata": {},
     "output_type": "display_data"
    }
   ],
   "source": [
    "import matplotlib.pyplot as plt\n",
    "\n",
    "plt.hist([fitness(randomkey()) for _ in range(80)])\n",
    "plt.show()"
   ]
  },
  {
   "cell_type": "code",
   "execution_count": 88,
   "metadata": {},
   "outputs": [
    {
     "data": {
      "text/plain": [
       "0.009148202021606266"
      ]
     },
     "execution_count": 88,
     "metadata": {},
     "output_type": "execute_result"
    }
   ],
   "source": [
    "from timeit import timeit\n",
    "\n",
    "k = randomkey()\n",
    "timeit(lambda: fitness(randomkey()), number=1)"
   ]
  },
  {
   "cell_type": "code",
   "execution_count": null,
   "metadata": {},
   "outputs": [],
   "source": []
  },
  {
   "cell_type": "code",
   "execution_count": null,
   "metadata": {},
   "outputs": [],
   "source": []
  },
  {
   "cell_type": "code",
   "execution_count": null,
   "metadata": {},
   "outputs": [],
   "source": []
  },
  {
   "cell_type": "code",
   "execution_count": null,
   "metadata": {},
   "outputs": [],
   "source": []
  }
 ],
 "metadata": {
  "kernelspec": {
   "display_name": "Python 3",
   "language": "python",
   "name": "python3"
  },
  "language_info": {
   "codemirror_mode": {
    "name": "ipython",
    "version": 3
   },
   "file_extension": ".py",
   "mimetype": "text/x-python",
   "name": "python",
   "nbconvert_exporter": "python",
   "pygments_lexer": "ipython3",
   "version": "3.6.5"
  }
 },
 "nbformat": 4,
 "nbformat_minor": 2
}
